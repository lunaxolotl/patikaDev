{
 "cells": [
  {
   "cell_type": "code",
   "execution_count": 1,
   "id": "9f1b664d-61eb-4ee3-abd0-9fc3efd77ab8",
   "metadata": {},
   "outputs": [
    {
     "data": {
      "text/plain": [
       "[1, 'a', 'cat', 2, 3, 'dog', 4, 5]"
      ]
     },
     "execution_count": 1,
     "metadata": {},
     "output_type": "execute_result"
    }
   ],
   "source": [
    "arr = [[1,'a',['cat'],2],[[[3]],'dog'],4,5]\n",
    "emptarr = []\n",
    "def flatten(n):\n",
    "    for i in n:\n",
    "        if isinstance(i, list):\n",
    "            flatten(i)\n",
    "        else:\n",
    "            emptarr.append(i)\n",
    "    return emptarr\n",
    "\n",
    "flatten(arr)"
   ]
  },
  {
   "cell_type": "code",
   "execution_count": null,
   "id": "5de3f0f5-4218-4b95-ae52-af187e1d8537",
   "metadata": {},
   "outputs": [],
   "source": []
  }
 ],
 "metadata": {
  "kernelspec": {
   "display_name": "Python 3 (ipykernel)",
   "language": "python",
   "name": "python3"
  },
  "language_info": {
   "codemirror_mode": {
    "name": "ipython",
    "version": 3
   },
   "file_extension": ".py",
   "mimetype": "text/x-python",
   "name": "python",
   "nbconvert_exporter": "python",
   "pygments_lexer": "ipython3",
   "version": "3.10.0"
  }
 },
 "nbformat": 4,
 "nbformat_minor": 5
}
