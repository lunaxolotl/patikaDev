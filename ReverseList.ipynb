{
 "cells": [
  {
   "cell_type": "code",
   "execution_count": null,
   "id": "6c1c0540-3710-4ccf-887e-65a42012ad3e",
   "metadata": {},
   "outputs": [],
   "source": [
    "arr = [[1, 2], [3, 4], [5, 6, 7]]\n",
    "arr = l[::-1]\n",
    "s = len(arr)\n",
    "\n",
    "for i in range(s):\n",
    "    (arr[i])=(arr[i])[::-1]\n",
    "print(arr)"
   ]
  }
 ],
 "metadata": {
  "kernelspec": {
   "display_name": "Python 3 (ipykernel)",
   "language": "python",
   "name": "python3"
  },
  "language_info": {
   "codemirror_mode": {
    "name": "ipython",
    "version": 3
   },
   "file_extension": ".py",
   "mimetype": "text/x-python",
   "name": "python",
   "nbconvert_exporter": "python",
   "pygments_lexer": "ipython3",
   "version": "3.10.0"
  }
 },
 "nbformat": 4,
 "nbformat_minor": 5
}
